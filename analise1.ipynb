{
 "cells": [
  {
   "cell_type": "code",
   "execution_count": null,
   "metadata": {},
   "outputs": [
    {
     "ename": "",
     "evalue": "",
     "output_type": "error",
     "traceback": [
      "\u001b[1;31mFalha ao iniciar o Kernel. \n",
      "\u001b[1;31mNão é possível iniciar o Kernel \"Python 3.12.3\" devido a um tempo limite aguardando as portas serem usadas. \n",
      "\u001b[1;31mConsulte o <a href='command:jupyter.viewOutput'>log</a> do Jupyter para obter mais detalhes."
     ]
    }
   ],
   "source": [
    "import pandas as pd\n",
    "import plotly.express as px\n",
    "import matplotlib.pyplot as plt"
   ]
  },
  {
   "cell_type": "code",
   "execution_count": null,
   "metadata": {},
   "outputs": [
    {
     "ename": "",
     "evalue": "",
     "output_type": "error",
     "traceback": [
      "\u001b[1;31mFalha ao iniciar o Kernel. \n",
      "\u001b[1;31mNão é possível iniciar o Kernel \"Python 3.12.3\" devido a um tempo limite aguardando as portas serem usadas. \n",
      "\u001b[1;31mConsulte o <a href='command:jupyter.viewOutput'>log</a> do Jupyter para obter mais detalhes."
     ]
    }
   ],
   "source": [
    "df = pd.read_excel('BaseEstudo.xlsx')\n",
    "#display(df)"
   ]
  },
  {
   "cell_type": "code",
   "execution_count": null,
   "metadata": {},
   "outputs": [
    {
     "ename": "",
     "evalue": "",
     "output_type": "error",
     "traceback": [
      "\u001b[1;31mFalha ao iniciar o Kernel. \n",
      "\u001b[1;31mNão é possível iniciar o Kernel \"Python 3.12.3\" devido a um tempo limite aguardando as portas serem usadas. \n",
      "\u001b[1;31mConsulte o <a href='command:jupyter.viewOutput'>log</a> do Jupyter para obter mais detalhes."
     ]
    }
   ],
   "source": [
    "df['Data'] = pd.to_datetime(df['Data'], format='%d%m%Y')\n",
    "df['Ano da Venda'] = df['Data'].dt.year\n",
    "display(df['Vendedor'].unique())"
   ]
  },
  {
   "cell_type": "code",
   "execution_count": null,
   "metadata": {},
   "outputs": [
    {
     "ename": "",
     "evalue": "",
     "output_type": "error",
     "traceback": [
      "\u001b[1;31mFalha ao iniciar o Kernel. \n",
      "\u001b[1;31mNão é possível iniciar o Kernel \"Python 3.12.3\" devido a um tempo limite aguardando as portas serem usadas. \n",
      "\u001b[1;31mConsulte o <a href='command:jupyter.viewOutput'>log</a> do Jupyter para obter mais detalhes."
     ]
    }
   ],
   "source": [
    "df['Valor Total'] = df['Preço_Unit'] * df['Qtd_Prod']\n",
    "df_2019 = df[df['Ano da Venda'] == 2019]\n",
    "vendas_vendedor = df_2019.groupby('Vendedor')['Qtd_Prod'].sum()\n",
    "vendas_vendedor = vendas_vendedor.sort_values(ascending=True)\n",
    "nomes_vendedores = ['Camila Souza', 'Anderson Gomes', 'Clara Nunes']\n",
    "vendas_vendedor_filtrado = df_2019.loc[df_2019['Vendedor'].isin(nomes_vendedores)]\n",
    "\n",
    "display(vendas_vendedor_filtrado[:4])"
   ]
  },
  {
   "cell_type": "code",
   "execution_count": null,
   "metadata": {},
   "outputs": [
    {
     "ename": "",
     "evalue": "",
     "output_type": "error",
     "traceback": [
      "\u001b[1;31mFalha ao iniciar o Kernel. \n",
      "\u001b[1;31mNão é possível iniciar o Kernel \"Python 3.12.3\" devido a um tempo limite aguardando as portas serem usadas. \n",
      "\u001b[1;31mConsulte o <a href='command:jupyter.viewOutput'>log</a> do Jupyter para obter mais detalhes."
     ]
    }
   ],
   "source": [
    "import plotly.graph_objects as go\n",
    "vendas_vendedor = df_2019.groupby('Vendedor')['Qtd_Prod'].sum()\n",
    "#a linha de código abaixo também é uma opção\n",
    "#vendas_vendedor.plot.pie(title='Qtd Vendida por Vendedor')\n",
    "\n",
    "colunaVend = vendas_vendedor.index\n",
    "colunaQtd = vendas_vendedor.values\n",
    "cores_marcadores = ['khaki', 'MediumSeaGreen', 'crimson', 'limegreen', 'tomato']\n",
    "\n",
    "fig = go.Figure(data = go.Pie(labels=colunaVend,\n",
    "                              values=colunaQtd,\n",
    "                              marker_colors = cores_marcadores,\n",
    "                              hole= 0.4,\n",
    "                              pull = [0, 0, 0, 0.15, 0, 0, 0],\n",
    "                              ))\n",
    "\n",
    "#Ródutos\n",
    "fig.update_traces(textposition = 'outside', textinfo = 'percent+label')\n",
    "\n",
    "#Legenda\n",
    "fig.update_layout(legend_title_text = 'Vendedores',\n",
    "                  legend = (dict(orientation = 'h',\n",
    "                                 xanchor = 'auto',\n",
    "                                 x = 0.5)))\n",
    "\n",
    "#Texto\n",
    "fig.update_layout(annotations = [dict(text = 'Vendas',\n",
    "                                      x = 0.5,\n",
    "                                      y = 0.5,\n",
    "                                      font_size = 18,\n",
    "                                      showarrow = False)])\n",
    "\n",
    "fig.show()"
   ]
  }
 ],
 "metadata": {
  "kernelspec": {
   "display_name": "Python 3",
   "language": "python",
   "name": "python3"
  },
  "language_info": {
   "name": "python",
   "version": "3.12.3"
  }
 },
 "nbformat": 4,
 "nbformat_minor": 2
}
